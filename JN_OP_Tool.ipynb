{
 "cells": [
  {
   "cell_type": "code",
   "execution_count": 1,
   "id": "90678ecd",
   "metadata": {},
   "outputs": [
    {
     "name": "stdout",
     "output_type": "stream",
     "text": [
      "Loading Dependencies\n",
      "--------------------\n",
      "10%\n",
      "20%\n",
      "30%\n",
      "40%\n",
      "50%\n",
      "60%\n",
      "70%\n",
      "80%\n",
      "90%\n",
      "100%\n",
      "--------------------\n",
      "Loaded\n"
     ]
    }
   ],
   "source": [
    "# // Dependencies\n",
    "print(\"Loading Dependencies\\n--------------------\")\n",
    "\n",
    "import pandas as pd\n",
    "print(\"10%\")\n",
    "import matplotlib\n",
    "print(\"20%\")\n",
    "matplotlib.use('TKAgg')\n",
    "print(\"30%\")\n",
    "import matplotlib.pyplot as plt\n",
    "print(\"40%\")\n",
    "import sys\n",
    "print(\"50%\")\n",
    "import os\n",
    "print(\"60%\")\n",
    "import tkinter as tk\n",
    "print(\"70%\")\n",
    "from tkinter import ttk\n",
    "print(\"80%\")\n",
    "from tkinter import messagebox\n",
    "print(\"90%\")\n",
    "from tkinter import filedialog\n",
    "print(\"100%\")\n",
    "import glob\n",
    "print(\"--------------------\\nLoaded\")"
   ]
  },
  {
   "cell_type": "code",
   "execution_count": 2,
   "id": "c2c24e8f",
   "metadata": {},
   "outputs": [],
   "source": [
    "# // Path to Query\n",
    "#folder_path = 'QUERY_FILE_GOES_HERE/'\n",
    "\n",
    "#xlsx_files = glob.glob(os.path.join(folder_path, '*.xlsx'))\n",
    "\n",
    "#QUERYS = {}\n",
    "#Q_Index = 0\n",
    "\n",
    "#for file_path in xlsx_files:\n",
    "#    OPName = os.path.splitext(os.path.basename(file_path))[0] # Extract filename without extension as DataFrame name\n",
    "#    QUERYS[OPName] = pd.read_excel(file_path)\n",
    "#    Q_Index += 1\n",
    "    \n",
    "#print(f\"Files in folder '{folder_path}':\")\n",
    "\n",
    "#if Q_Index > 0:\n",
    "#    for file_name in QUERYS.keys():\n",
    "#        print(file_name)\n",
    "#else:\n",
    "#   print(f\"No .xlsx file found in {folder_path}\")"
   ]
  },
  {
   "cell_type": "code",
   "execution_count": 3,
   "id": "c519a6c8",
   "metadata": {},
   "outputs": [
    {
     "name": "stdout",
     "output_type": "stream",
     "text": [
      "202230\n",
      "202310\n",
      "202320\n"
     ]
    }
   ],
   "source": [
    "root = tk.Tk()\n",
    "Query_Path = filedialog.askopenfilename(initialdir='QUERY_FILE_GOES_HERE/', title='Select a file', filetypes=[('Excel files', '*.xlsx')])\n",
    "Query = pd.read_excel(Query_Path)\n",
    "terms = []\n",
    "enroll_status_cols = Query.filter(like='_Enroll_Status').columns\n",
    "for term in enroll_status_cols:\n",
    "    term = term[:6]\n",
    "    terms.append(term)\n",
    "    print(term)"
   ]
  },
  {
   "cell_type": "code",
   "execution_count": 4,
   "id": "85b51859",
   "metadata": {},
   "outputs": [
    {
     "name": "stdout",
     "output_type": "stream",
     "text": [
      "Term selected is 202310\n"
     ]
    }
   ],
   "source": [
    "root.destroy()\n",
    "root = tk.Tk()\n",
    "root.title(\"Current Term Input\")\n",
    "\n",
    "label = tk.Label(root, text=\"Input current term in Banner format: \\nOptions are:\")\n",
    "label.pack()\n",
    "label = tk.Label(root, text=\"\\n\".join(terms))\n",
    "label.pack()\n",
    "\n",
    "entry = tk.Entry(root)\n",
    "entry.pack()\n",
    "\n",
    "def get_term():\n",
    "    global Current_Term\n",
    "    global LastTwo\n",
    "    Current_Term = entry.get()\n",
    "    if Current_Term.isdigit():\n",
    "        Current_Term = int(Current_Term)\n",
    "        LastTwo = Current_Term % 100\n",
    "        if Current_Term > 100000 and Current_Term < 999999 and (LastTwo == 10 or LastTwo == 20 or LastTwo == 30):\n",
    "            root.destroy()\n",
    "        else:\n",
    "            messagebox.showerror(\"Error\", \"Input not in correct Banner format\")\n",
    "    else:\n",
    "        messagebox.showerror(\"Error\", \"Input is not a number\")\n",
    "\n",
    "submit_btn = tk.Button(root, text=\"Submit\", command=get_term)\n",
    "submit_btn.pack()\n",
    "\n",
    "root.mainloop()\n",
    "print(f\"Term selected is \" + str(Current_Term))"
   ]
  },
  {
   "cell_type": "code",
   "execution_count": 5,
   "id": "9da01ba5",
   "metadata": {},
   "outputs": [],
   "source": [
    "# Returns Count of VIDs as Population\n",
    "TPS = Query[\"VID\"].count()\n",
    "\n",
    "# Sets Term Codes & Reads Current Term from input\n",
    "if LastTwo == 10:\n",
    "    Fall = Current_Term\n",
    "    Term_Actual = \"Fall\"\n",
    "elif LastTwo == 20:\n",
    "    Fall = Current_Term - 10\n",
    "    Term_Actual = \"Spring\"\n",
    "elif LastTwo == 30:\n",
    "    Fall = Current_Term - 20\n",
    "    Term_Actual = \"Summer\"\n",
    "    Spring = Fall + 10\n",
    "    Summer = Spring + 10\n",
    "\n",
    "# Returns Count of Enrolled OP Students in Current Term\n",
    "CTerm_Search = str(Current_Term) + \"_Enroll_Status\"\n",
    "CTerm = Query[CTerm_Search].count()\n",
    "\n",
    "# Returns Count of Enrolled OP Students in NEXT Term\n",
    "# Sets Next Term Variable\n",
    "if LastTwo == 30:\n",
    "    NTerm_Search = str(Spring) + \"_Enroll_Status\"\n",
    "elif LastTwo == 10 or LastTwo == 20:\n",
    "    NTerm_Search = str(Current_Term + 10) + \"_Enroll_Status\"\n",
    "NTerm = Query[NTerm_Search].count()\n",
    "\n",
    "# 1. Filters out OP Students NOT ENROLLED in current Term\n",
    "# 2. Returns count of Current Term Enrollees that Enrolled in the Following Term\n",
    "# 3. Returns count of Current Term withdrawls\n",
    "Current_E_List = Query[Query[CTerm_Search].notnull()]\n",
    "Next_E_List_Count = Current_E_List[NTerm_Search].count()\n",
    "Current_WD = len(Current_E_List[Current_E_List[CTerm_Search] == \"WT\"])\n",
    "\n",
    "# 1. Filters OP Students Admitted Next Term or later\n",
    "# 2. Out of filtered OP Students, counts enrolled students in the next term\n",
    "DA_NTerm_List = Query[Query[\"TermCodeAdmit\"] > Current_Term]\n",
    "Admit_DA_NTerm = DA_NTerm_List[NTerm_Search].count()\n",
    "\n",
    "# Index for graphs: count of all students admitted during or after next term\n",
    "DASIndex = len(Query[Query[\"TermCodeAdmit\"] > Current_Term].count())"
   ]
  },
  {
   "cell_type": "code",
   "execution_count": 6,
   "id": "1e23511b",
   "metadata": {},
   "outputs": [],
   "source": [
    "Eratio = Next_E_List_Count / CTerm\n",
    "\n",
    "labels = ['Enrolled', 'Not Enrolled']\n",
    "sizes = [Eratio, 1-Eratio]\n",
    "\n",
    "fig, ax = plt.subplots()\n",
    "ax.pie(sizes, labels=labels, startangle=90, counterclock=False, autopct='%1.1f%%')\n",
    "\n",
    "plt.title('Students Who Enrolled in Current Term \\n That Enrolled in Next Term')\n",
    "\n",
    "plt.show()"
   ]
  },
  {
   "cell_type": "code",
   "execution_count": 7,
   "id": "b27bbfa9",
   "metadata": {},
   "outputs": [],
   "source": [
    "WDRatio = Current_WD / CTerm\n",
    "\n",
    "labels = ['Withdrawn', 'Enrolled']\n",
    "sizes = [WDRatio, 1-WDRatio]\n",
    "\n",
    "fig, ax = plt.subplots()\n",
    "ax.pie(sizes, labels=labels, startangle=90, counterclock=False, autopct='%1.1f%%')\n",
    "\n",
    "plt.title('Students Enrolled \\n Current Term \\n That Withdrew')\n",
    "\n",
    "plt.show()"
   ]
  },
  {
   "cell_type": "code",
   "execution_count": 8,
   "id": "faf7a56d",
   "metadata": {},
   "outputs": [],
   "source": [
    "DAS_Enroll = Admit_DA_NTerm / DASIndex\n",
    "\n",
    "labels = ['Enrolled', 'Not Yet Enrolled']\n",
    "sizes = [DAS_Enroll, 1-DAS_Enroll]\n",
    "\n",
    "fig, ax = plt.subplots()\n",
    "ax.pie(sizes, labels=labels, startangle=90, counterclock=False, autopct='%1.1f%%')\n",
    "\n",
    "plt.title('Enrollment of Students Admitted \\n Next Term Code or After')\n",
    "\n",
    "plt.show()"
   ]
  },
  {
   "cell_type": "code",
   "execution_count": 9,
   "id": "7181b7f7",
   "metadata": {},
   "outputs": [],
   "source": [
    "with open(\"report.txt\", \"w\") as file:\n",
    "    file.write(\"Osceola Prosper Report\")\n",
    "    file.write(\"\\n ------------------------------------------\")\n",
    "    file.write(\"\\nTotal Prosper Students: \" + str(TPS))\n",
    "    file.write(\"\\nFall Enrolled Students: \" + str(CTerm))\n",
    "    file.write(\"\\nSpring Enrolled Students: \" + str(NTerm))\n",
    "    file.write(\"\\nFall Students Who Withdrew from Classes: \" + str(Current_WD) + \" | \" + str(format((WDRatio * 100), '.2f')) +\"% of Fall Students Withdrew.\")\n",
    "    file.write(\"\\nStudents Admitted in 202320 or later who are Enrolled: \" + str(Admit_DA_NTerm) + \" | \" + str(format((DAS_Enroll * 100), '.2f')) + \"% of Spring Admitted Students are Enrolled.\")"
   ]
  },
  {
   "cell_type": "code",
   "execution_count": null,
   "id": "34a80cca",
   "metadata": {},
   "outputs": [],
   "source": []
  }
 ],
 "metadata": {
  "kernelspec": {
   "display_name": "Python 3 (ipykernel)",
   "language": "python",
   "name": "python3"
  },
  "language_info": {
   "codemirror_mode": {
    "name": "ipython",
    "version": 3
   },
   "file_extension": ".py",
   "mimetype": "text/x-python",
   "name": "python",
   "nbconvert_exporter": "python",
   "pygments_lexer": "ipython3",
   "version": "3.9.13"
  }
 },
 "nbformat": 4,
 "nbformat_minor": 5
}
