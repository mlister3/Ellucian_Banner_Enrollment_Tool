{
 "cells": [
  {
   "cell_type": "code",
   "execution_count": 1,
   "id": "b97d355f",
   "metadata": {},
   "outputs": [],
   "source": [
    "# // Dependencies\n",
    "import pandas as pd\n",
    "import matplotlib\n",
    "matplotlib.use('TKAgg')\n",
    "import matplotlib.pyplot as plt\n",
    "import sys\n",
    "import os\n",
    "import tkinter as tk\n",
    "from tkinter import ttk\n",
    "from tkinter import messagebox\n",
    "from tkinter import filedialog\n",
    "import glob"
   ]
  },
  {
   "cell_type": "code",
   "execution_count": 2,
   "id": "66143a59",
   "metadata": {},
   "outputs": [
    {
     "name": "stdout",
     "output_type": "stream",
     "text": [
      "Files in folder 'QUERY_FILE_GOES_HERE/':\n",
      "Osceola prosper query 01-02-2023 Nelson-1\n",
      "Osceola prosper query 01-19-2023 Nelson-1\n"
     ]
    }
   ],
   "source": [
    "# // Path to Query\n",
    "folder_path = 'QUERY_FILE_GOES_HERE/'\n",
    "\n",
    "xlsx_files = glob.glob(os.path.join(folder_path, '*.xlsx'))\n",
    "\n",
    "QUERYS = {}\n",
    "Q_Index = 0\n",
    "\n",
    "for file_path in xlsx_files:\n",
    "    OPName = os.path.splitext(os.path.basename(file_path))[0] # Extract filename without extension as DataFrame name\n",
    "    QUERYS[OPName] = pd.read_excel(file_path)\n",
    "    Q_Index += 1\n",
    "    \n",
    "print(f\"Files in folder '{folder_path}':\")\n",
    "\n",
    "if Q_Index > 0:\n",
    "    for file_name in QUERYS.keys():\n",
    "        print(file_name)\n",
    "else:\n",
    "   print(f\"No .xlsx file found in {folder_path}\")"
   ]
  },
  {
   "cell_type": "code",
   "execution_count": null,
   "id": "f1201379",
   "metadata": {},
   "outputs": [],
   "source": [
    "root = tk.Tk()\n",
    "root.withdraw()\n",
    "Query = filedialog.askopenfilename(initialdir='QUERY_FILE_GOES_HERE/', title='Select a file', filetypes=[('Excel files', '*.xlsx')])\n",
    "\n",
    "root = tk.Tk()\n",
    "root.title(\"Current Term Input\")\n",
    "\n",
    "label = tk.Label(root, text=\"Input current term in Banner format ######. Ex. 202210: \")\n",
    "label.pack()\n",
    "\n",
    "entry = tk.Entry(root)\n",
    "entry.pack()\n",
    "\n",
    "def get_term():\n",
    "    global Current_Term\n",
    "    global LastTwo\n",
    "    Current_Term = entry.get()\n",
    "    if Current_Term.isdigit():\n",
    "        Current_Term = int(Current_Term)\n",
    "        LastTwo = Current_Term % 100\n",
    "        if Current_Term > 100000 and Current_Term < 999999 and (LastTwo == 10 or LastTwo == 20 or LastTwo == 30):\n",
    "            root.destroy()\n",
    "        else:\n",
    "            messagebox.showerror(\"Error\", \"Input not in correct Banner format\")\n",
    "    else:\n",
    "        messagebox.showerror(\"Error\", \"Input is not a number\")\n",
    "\n",
    "submit_btn = tk.Button(root, text=\"Submit\", command=get_term)\n",
    "submit_btn.pack()\n",
    "\n",
    "root.mainloop()"
   ]
  },
  {
   "cell_type": "code",
   "execution_count": null,
   "id": "fd2fbaca",
   "metadata": {},
   "outputs": [],
   "source": [
    "# Returns Count of VIDs as Population\n",
    "TPS = Query[\"VID\"].count()\n",
    "\n",
    "# Sets Term Codes & Reads Current Term from input\n",
    "if LastTwo == 10:\n",
    "    Fall = Current_Term\n",
    "    Term_Actual = \"Fall\"\n",
    "elif LastTwo == 20:\n",
    "    Fall = Current_Term - 10\n",
    "    Term_Actual = \"Spring\"\n",
    "elif LastTwo == 30:\n",
    "    Fall = Current_Term - 20\n",
    "    Term_Actual = \"Summer\"\n",
    "    Spring = Fall + 10\n",
    "    Summer = Spring + 10\n",
    "\n",
    "# Returns Count of Enrolled OP Students in Current Term\n",
    "CTerm_Search = str(Current_Term) + \"_Enroll_Status\"\n",
    "CTerm = Query[CTerm_Search].count()\n",
    "\n",
    "# Returns Count of Enrolled OP Students in NEXT Term\n",
    "# Sets Next Term Variable\n",
    "if LastTwo == 30:\n",
    "    NTerm_Search = str(Spring) + \"_Enroll_Status\"\n",
    "elif LastTwo == 10 or LastTwo == 20:\n",
    "    NTerm_Search = str(Current_Term + 10) + \"_Enroll_Status\"\n",
    "NTerm = Query[NTerm_Search].count()\n",
    "\n",
    "# 1. Filters out OP Students NOT ENROLLED in current Term\n",
    "# 2. Returns count of Current Term Enrollees that Enrolled in the Following Term\n",
    "# 3. Returns count of Current Term withdrawls\n",
    "Current_E_List = Query[Query[CTerm_Search].notnull()]\n",
    "Next_E_List_Count = Current_E_List[NTerm_Search].count()\n",
    "Current_WD = len(Current_E_List[Current_E_List[CTerm_Search] == \"WT\"])\n",
    "\n",
    "# 1. Filters OP Students Admitted Next Term or later\n",
    "# 2. Out of filtered OP Students, counts enrolled students in the next term\n",
    "DA_NTerm_List = Query[Query[\"TermCodeAdmit\"] > Current_Term]\n",
    "Admit_DA_NTerm = DA_NTerm_List[NTerm_Search].count()\n",
    "\n",
    "# Index for graphs: count of all students admitted during or after next term\n",
    "DASIndex = len(Query[Query[\"TermCodeAdmit\"] > Current_Term].count())"
   ]
  },
  {
   "cell_type": "code",
   "execution_count": null,
   "id": "518915ce",
   "metadata": {},
   "outputs": [],
   "source": []
  }
 ],
 "metadata": {
  "kernelspec": {
   "display_name": "Python 3 (ipykernel)",
   "language": "python",
   "name": "python3"
  },
  "language_info": {
   "codemirror_mode": {
    "name": "ipython",
    "version": 3
   },
   "file_extension": ".py",
   "mimetype": "text/x-python",
   "name": "python",
   "nbconvert_exporter": "python",
   "pygments_lexer": "ipython3",
   "version": "3.9.13"
  }
 },
 "nbformat": 4,
 "nbformat_minor": 5
}
